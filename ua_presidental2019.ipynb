{
 "cells": [
  {
   "cell_type": "code",
   "execution_count": null,
   "metadata": {},
   "outputs": [],
   "source": [
    "#r \"nuget:HtmlAgilityPack,1.11.24\"\n",
    "#r \"nuget:Microsoft.Data.Analysis,0.4.0\"\n",
    "#r \"nuget:CsvHelper,15.0.5\""
   ]
  },
  {
   "cell_type": "code",
   "execution_count": null,
   "metadata": {},
   "outputs": [],
   "source": [
    "using System;\n",
    "using System.IO;\n",
    "using System.Linq;\n",
    "using System.Net;\n",
    "using System.Text;\n",
    "using HtmlAgilityPack;\n",
    "using Microsoft.Data.Analysis;\n",
    "using XPlot.Plotly;\n",
    "Encoding.RegisterProvider(CodePagesEncodingProvider.Instance);"
   ]
  },
  {
   "cell_type": "code",
   "execution_count": null,
   "metadata": {},
   "outputs": [],
   "source": [
    "class CandidateResult\n",
    "{\n",
    "    public string Name { get; set; }\n",
    "    public int VotesCount { get; set; }\n",
    "    public double Percentage { get; set; }\n",
    "}\n",
    "\n",
    "class Uik\n",
    "{\n",
    "    public string Name { get; set; }\n",
    "    public List<int> Technical { get; set; }\n",
    "    public int TotalVoters { get; set; }\n",
    "    public int TotalVoted { get; set; }\n",
    "    public int InvalidBallots { get; set; }\n",
    "    public double Turnout { get; set; }\n",
    "    public Dictionary<string, CandidateResult> CandidateResults { get; set; }\n",
    "}"
   ]
  },
  {
   "cell_type": "code",
   "execution_count": null,
   "metadata": {},
   "outputs": [],
   "source": [
    "var url1 = \"https://www.cvk.gov.ua/pls/vp2019/wp335pt001f01=719.html\";\n",
    "var url2 = \"https://www.cvk.gov.ua/pls/vp2019/wp335pt001f01=720.html\";"
   ]
  },
  {
   "cell_type": "code",
   "execution_count": null,
   "metadata": {},
   "outputs": [],
   "source": [
    "var request = WebRequest.CreateHttp(url1);\n",
    "var webResponse = request.GetResponse();\n",
    "var doc = new HtmlDocument();\n",
    "using (var responseStream = webResponse.GetResponseStream())\n",
    "    doc.Load(responseStream, Encoding.GetEncoding(\"windows-1251\"));"
   ]
  },
  {
   "cell_type": "code",
   "execution_count": null,
   "metadata": {},
   "outputs": [],
   "source": [
    "var links = doc.DocumentNode.SelectNodes(\"//table/tr/td[2]/a\");\n",
    "var hrefs = links.Select(node => \"https://www.cvk.gov.ua/pls/vp2019/\" + node.Attributes[\"href\"].Value);"
   ]
  },
  {
   "cell_type": "code",
   "execution_count": null,
   "metadata": {},
   "outputs": [],
   "source": [
    "static List<string> ExtractHeader(HtmlDocument tikDocument)\n",
    "{\n",
    "    var header = tikDocument.DocumentNode\n",
    "        .SelectNodes(\"//table/thead/tr\")\n",
    "        .First()\n",
    "        .SelectNodes(\"th\")\n",
    "        .Select(node => node.InnerHtml.Replace(\"<br>\", \" \").Trim())\n",
    "        .ToList();\n",
    "    return header;\n",
    "}\n",
    "\n",
    "static Uik ParseRow(List<string> tableRow, List<string> candidateNames)\n",
    "{\n",
    "    var technical = tableRow.Skip(1).Take(10).Select(int.Parse).ToList();\n",
    "    var totalVoters = technical[1];\n",
    "    var totalVoted = technical[8];\n",
    "    var invalidBallots = technical[9];\n",
    "    var turnout = (double) totalVoted / totalVoters;\n",
    "\n",
    "    var results = tableRow.Skip(11).SkipLast(1).Select(int.Parse).ToList();\n",
    "\n",
    "    var candidateResults = Enumerable.Range(0, candidateNames.Count)\n",
    "        .Select(i => new CandidateResult()\n",
    "        {\n",
    "            Name = candidateNames[i],\n",
    "            VotesCount = results[i],\n",
    "            Percentage = (double) results[i] / totalVoted\n",
    "        })\n",
    "        .ToDictionary(result => result.Name);\n",
    "\n",
    "    return new Uik()\n",
    "    {\n",
    "        Name = tableRow[0],\n",
    "        TotalVoters = totalVoters,\n",
    "        TotalVoted = totalVoted,\n",
    "        InvalidBallots = invalidBallots,\n",
    "        Turnout = turnout,\n",
    "        Technical = technical,\n",
    "        CandidateResults = candidateResults\n",
    "    };\n",
    "}\n",
    "\n",
    "static List<Uik> ExtractUiks(HtmlDocument tikDocument)\n",
    "{\n",
    "    var candidateNames = ExtractHeader(tikDocument).Skip(11).SkipLast(1).ToList();\n",
    "\n",
    "    return tikDocument.DocumentNode.SelectNodes(\"//table/tr\")\n",
    "        .Select(row => row.SelectNodes(\"td\")\n",
    "            .Select(node => node.InnerHtml.Replace(\"<b>\", \"\")\n",
    "                .Replace(\"</b>\", \"\"))\n",
    "            .ToList())\n",
    "        .Select(row => ParseRow(row, candidateNames))\n",
    "        .ToList();\n",
    "}\n",
    "\n",
    "static List<T> ParseHtml<T>(string url, Func<HtmlDocument, List<T>> handler)\n",
    "{\n",
    "    var tikRequest = WebRequest.CreateHttp(url);\n",
    "    var tikResponse = tikRequest.GetResponse();\n",
    "    var tikDocument = new HtmlDocument();\n",
    "    using (var responseStream = tikResponse.GetResponseStream())\n",
    "        tikDocument.Load(responseStream, Encoding.GetEncoding(\"windows-1251\"));\n",
    "    return handler(tikDocument);\n",
    "}\n",
    "\n",
    "static List<string> GetHeader(string url) => ParseHtml(url, ExtractHeader);\n",
    "\n",
    "static List<Uik> GetUiks(string url) => ParseHtml(url, ExtractUiks);"
   ]
  },
  {
   "cell_type": "code",
   "execution_count": null,
   "metadata": {},
   "outputs": [],
   "source": [
    "var rand = new Random();\n",
    "var header = GetHeader(hrefs.First());\n",
    "var uiks = hrefs.OrderBy(x => rand.Next()).Take(10)\n",
    "    .SelectMany(url => GetUiks(url))\n",
    "    .ToList();"
   ]
  },
  {
   "cell_type": "code",
   "execution_count": null,
   "metadata": {},
   "outputs": [],
   "source": [
    "uiks.First().CandidateResults.Keys"
   ]
  },
  {
   "cell_type": "markdown",
   "metadata": {},
   "source": [
    "# Рисуем графики"
   ]
  },
  {
   "cell_type": "code",
   "execution_count": null,
   "metadata": {},
   "outputs": [],
   "source": [
    "static Graph.Scatter GetScatter(IEnumerable<Uik> uiks,\n",
    "    List<string> header,\n",
    "    string candidateName,\n",
    "    double markerSize) =>\n",
    "    new Graph.Scatter()\n",
    "    {\n",
    "        x = uiks.Select(uik => uik.Turnout).ToList(),\n",
    "        y = uiks.Select(uik => uik.CandidateResults[candidateName].Percentage).ToList(),\n",
    "        mode = \"markers\",\n",
    "        marker = new Graph.Marker() { size = markerSize },\n",
    "        name = candidateName\n",
    "    };"
   ]
  },
  {
   "cell_type": "code",
   "execution_count": null,
   "metadata": {},
   "outputs": [],
   "source": [
    "var plot = Chart.Plot(new [] {\"Порошенко Петро\", \"Зеленський Володимир\"}.Select(candidate => GetScatter(uiks, header, candidate, 1.5)));\n",
    "var layout = new Layout.Layout\n",
    "{\n",
    "    xaxis = new Graph.Xaxis {title = \"Явка избирателей\"},\n",
    "    yaxis = new Graph.Yaxis {title = \"Процент голосов за кандидата\"}\n",
    "};\n",
    "plot.WithLayout(layout);\n",
    "plot.WithTitle(\"Результат кандидата\");\n",
    "display(plot);"
   ]
  }
 ],
 "metadata": {
  "kernelspec": {
   "display_name": ".NET (C#)",
   "language": "C#",
   "name": ".net-csharp"
  },
  "language_info": {
   "file_extension": ".cs",
   "mimetype": "text/x-csharp",
   "name": "C#",
   "pygments_lexer": "csharp",
   "version": "8.0"
  }
 },
 "nbformat": 4,
 "nbformat_minor": 4
}
