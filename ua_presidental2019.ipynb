{
 "cells": [
  {
   "cell_type": "code",
   "execution_count": null,
   "metadata": {},
   "outputs": [],
   "source": [
    "#r \"nuget:HtmlAgilityPack,1.11.24\"\n",
    "#r \"nuget:Microsoft.Data.Analysis,0.4.0\"\n",
    "#r \"nuget:CsvHelper,15.0.5\""
   ]
  },
  {
   "cell_type": "code",
   "execution_count": null,
   "metadata": {},
   "outputs": [],
   "source": [
    "using System;\n",
    "using System.IO;\n",
    "using System.Linq;\n",
    "using System.Net;\n",
    "using System.Text;\n",
    "using HtmlAgilityPack;\n",
    "using Microsoft.Data.Analysis;\n",
    "using XPlot.Plotly;\n",
    "Encoding.RegisterProvider(CodePagesEncodingProvider.Instance);"
   ]
  },
  {
   "cell_type": "code",
   "execution_count": null,
   "metadata": {},
   "outputs": [],
   "source": [
    "class Uik\n",
    "{\n",
    "    public string Name { get; set; }\n",
    "    public List<double> Data { get; set; }\n",
    "    public DateTime ProtocolTime { get; set; }    \n",
    "    \n",
    "    public Uik(string name, List<double> data, DateTime protocolTime)\n",
    "    {\n",
    "        Name = name;\n",
    "        Data = data;\n",
    "        ProtocolTime = protocolTime;\n",
    "    }\n",
    "}"
   ]
  },
  {
   "cell_type": "code",
   "execution_count": null,
   "metadata": {},
   "outputs": [],
   "source": [
    "var url1 = \"https://www.cvk.gov.ua/pls/vp2019/wp335pt001f01=719.html\";\n",
    "var url2 = \"https://www.cvk.gov.ua/pls/vp2019/wp335pt001f01=720.html\";"
   ]
  },
  {
   "cell_type": "code",
   "execution_count": null,
   "metadata": {},
   "outputs": [],
   "source": [
    "var request = WebRequest.CreateHttp(url1);\n",
    "var webResponse = request.GetResponse();\n",
    "var doc = new HtmlDocument();\n",
    "using (var responseStream = webResponse.GetResponseStream())\n",
    "    doc.Load(responseStream, Encoding.GetEncoding(\"windows-1251\"));"
   ]
  },
  {
   "cell_type": "code",
   "execution_count": null,
   "metadata": {},
   "outputs": [],
   "source": [
    "var links = doc.DocumentNode.SelectNodes(\"//table/tr/td[2]/a\");\n",
    "var hrefs = links.Select(node => \"https://www.cvk.gov.ua/pls/vp2019/\" + node.Attributes[\"href\"].Value);"
   ]
  },
  {
   "cell_type": "code",
   "execution_count": null,
   "metadata": {},
   "outputs": [],
   "source": [
    "static List<String> GetHeader(string url)\n",
    "{\n",
    "    var tikRequest = WebRequest.CreateHttp(url);\n",
    "    var tikResponse = tikRequest.GetResponse();\n",
    "    var tikDocument = new HtmlDocument();\n",
    "    using (var responseStream = tikResponse.GetResponseStream())\n",
    "        tikDocument.Load(responseStream, Encoding.GetEncoding(\"windows-1251\"));\n",
    "    var header = tikDocument.DocumentNode\n",
    "        .SelectNodes(\"//table/thead/tr\")\n",
    "        .First()\n",
    "        .SelectNodes(\"th\")\n",
    "        .Select(node => node.InnerHtml.Replace(\"<br>\", \" \"))\n",
    "        .ToList();\n",
    "    return header;\n",
    "}"
   ]
  },
  {
   "cell_type": "code",
   "execution_count": null,
   "metadata": {},
   "outputs": [],
   "source": [
    "List<Uik> GetUiks(string url)\n",
    "{\n",
    "    var tikRequest = WebRequest.CreateHttp(url);\n",
    "    var tikResponse = tikRequest.GetResponse();\n",
    "    var tikDocument = new HtmlDocument();\n",
    "    using (var responseStream = tikResponse.GetResponseStream())\n",
    "        tikDocument.Load(responseStream, Encoding.GetEncoding(\"windows-1251\"));\n",
    "    var header = tikDocument.DocumentNode\n",
    "        .SelectNodes(\"//table/thead/tr\")\n",
    "        .First()\n",
    "        .SelectNodes(\"th\")\n",
    "        .Select(node => node.InnerHtml.Replace(\"<br>\", \" \"));\n",
    "    var uik = tikDocument.DocumentNode.SelectNodes(\"//table/tr\")\n",
    "        .Select(row => row.SelectNodes(\"td\")\n",
    "            .Select(node => node.InnerHtml.Replace(\"<b>\", \"\")\n",
    "                .Replace(\"</b>\", \"\"))\n",
    "            .ToList())\n",
    "        .Select(row => new Uik(row.First(),\n",
    "            row.Skip(1)\n",
    "                .SkipLast(1)\n",
    "                .Select(i => double.Parse(i))\n",
    "                .ToList(),\n",
    "            DateTime.Parse(row.Last())))\n",
    "        .ToList();\n",
    "    return uik;\n",
    "}"
   ]
  },
  {
   "cell_type": "code",
   "execution_count": null,
   "metadata": {},
   "outputs": [],
   "source": [
    "var header = GetHeader(hrefs.First()).Skip(1).ToList();\n",
    "header[49] = \"Явка\";\n",
    "var uiks = hrefs.Take(20)\n",
    "    .SelectMany(url => GetUiks(url))\n",
    "    .Select(uik =>\n",
    "    {\n",
    "        uik.Data = uik.Data.Take(8)\n",
    "            .Concat(uik.Data.Skip(8)\n",
    "                .Select(i => i / uik.Data[8]))\n",
    "            .Concat(new [] {uik.Data[8] / uik.Data[1]})\n",
    "            .ToList();\n",
    "        return uik;\n",
    "    })\n",
    "    .ToList();"
   ]
  },
  {
   "cell_type": "code",
   "execution_count": null,
   "metadata": {},
   "outputs": [],
   "source": [
    "header"
   ]
  },
  {
   "cell_type": "markdown",
   "metadata": {},
   "source": [
    "# Рисуем графики"
   ]
  },
  {
   "cell_type": "code",
   "execution_count": null,
   "metadata": {},
   "outputs": [],
   "source": [
    "Graph.Scatter GetScatter(IEnumerable<Uik> uiks, List<string> header, int candidateIndex, double markerSize) =>\n",
    "    new Graph.Scatter()\n",
    "    {\n",
    "        x = uiks.Select(uik => uik.Data[49]),\n",
    "        y = uiks.Select(uik => uik.Data[candidateIndex]),\n",
    "        mode = \"markers\",\n",
    "        marker = new Graph.Marker() { size = markerSize },\n",
    "        name = header[candidateIndex]\n",
    "    };"
   ]
  },
  {
   "cell_type": "code",
   "execution_count": null,
   "metadata": {},
   "outputs": [],
   "source": [
    "var plot = Chart.Plot(new [] {23, 39}.Select(index => GetScatter(uiks, header, index, 1.5)));\n",
    "var layout = new Layout.Layout\n",
    "{\n",
    "    xaxis = new Graph.Xaxis {title = \"Явка избирателей\"},\n",
    "    yaxis = new Graph.Yaxis {title = \"Процент голосов за кандидата\"}\n",
    "};\n",
    "plot.WithLayout(layout);\n",
    "plot.WithTitle(\"Результат кандидата\");\n",
    "display(plot);"
   ]
  },
  {
   "cell_type": "code",
   "execution_count": null,
   "metadata": {},
   "outputs": [],
   "source": []
  }
 ],
 "metadata": {
  "kernelspec": {
   "display_name": ".NET (C#)",
   "language": "C#",
   "name": ".net-csharp"
  },
  "language_info": {
   "file_extension": ".cs",
   "mimetype": "text/x-csharp",
   "name": "C#",
   "pygments_lexer": "csharp",
   "version": "8.0"
  }
 },
 "nbformat": 4,
 "nbformat_minor": 4
}
